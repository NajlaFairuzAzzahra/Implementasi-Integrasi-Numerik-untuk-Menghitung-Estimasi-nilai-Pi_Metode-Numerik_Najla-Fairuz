{
  "nbformat": 4,
  "nbformat_minor": 0,
  "metadata": {
    "colab": {
      "provenance": [],
      "authorship_tag": "ABX9TyMg2x0g2OCdJ6fys5/KBy7S",
      "include_colab_link": true
    },
    "kernelspec": {
      "name": "python3",
      "display_name": "Python 3"
    },
    "language_info": {
      "name": "python"
    }
  },
  "cells": [
    {
      "cell_type": "markdown",
      "metadata": {
        "id": "view-in-github",
        "colab_type": "text"
      },
      "source": [
        "<a href=\"https://colab.research.google.com/github/NajlaFairuzAzzahra/Implementasi-Integrasi-Numerik-untuk-Menghitung-Estimasi-nilai-Pi_Metode-Numerik_Najla-Fairuz/blob/main/Implementasi_Integrasi_Numerik_untuk_Menghitung_Estimasi_nilai_Pi_Metode_Numerik_Najla_Fairuz.ipynb\" target=\"_parent\"><img src=\"https://colab.research.google.com/assets/colab-badge.svg\" alt=\"Open In Colab\"/></a>"
      ]
    },
    {
      "cell_type": "code",
      "execution_count": 2,
      "metadata": {
        "colab": {
          "base_uri": "https://localhost:8080/"
        },
        "id": "Qg-8qb0h5VZS",
        "outputId": "e2448d96-8997-4230-c73a-032ebcb22b97"
      },
      "outputs": [
        {
          "output_type": "stream",
          "name": "stdout",
          "text": [
            "N = 10\n",
            "Perkiraan Pi: 3.1399259889071587\n",
            "Galat RMS: 0.0016666646826344333\n",
            "Waktu Eksekusi: 0.0002090930938720703 detik\n",
            "-----------------------------\n",
            "N = 100\n",
            "Perkiraan Pi: 3.141575986923129\n",
            "Galat RMS: 1.6666666664111318e-05\n",
            "Waktu Eksekusi: 0.00010514259338378906 detik\n",
            "-----------------------------\n",
            "N = 1000\n",
            "Perkiraan Pi: 3.141592486923127\n",
            "Galat RMS: 1.6666666624587378e-07\n",
            "Waktu Eksekusi: 0.00011587142944335938 detik\n",
            "-----------------------------\n",
            "N = 10000\n",
            "Perkiraan Pi: 3.1415926519231263\n",
            "Galat RMS: 1.666666804567285e-09\n",
            "Waktu Eksekusi: 0.009342432022094727 detik\n",
            "-----------------------------\n"
          ]
        }
      ],
      "source": [
        "import numpy as np\n",
        "import time\n",
        "\n",
        "# Fungsi untuk menghitung integral menggunakan metode trapezoid\n",
        "def trapezoid_integration(f, a, b, N):\n",
        "    x = np.linspace(a, b, N+1)\n",
        "    y = f(x)\n",
        "    h = (b - a) / N\n",
        "    integral = (h / 2) * (y[0] + 2 * np.sum(y[1:-1]) + y[-1])\n",
        "    return integral\n",
        "\n",
        "# Fungsi yang akan diintegrasikan\n",
        "def f(x):\n",
        "    return 4 / (1 + x**2)\n",
        "\n",
        "# Nilai referensi pi\n",
        "pi_reference = 3.14159265358979323846\n",
        "\n",
        "# Fungsi untuk menghitung galat RMS\n",
        "def rms_error(estimated_pi, reference_pi):\n",
        "    return np.sqrt(np.mean((estimated_pi - reference_pi) ** 2))\n",
        "\n",
        "# Variasi nilai N\n",
        "N_values = [10, 100, 1000, 10000]\n",
        "\n",
        "# Melakukan pengujian untuk setiap nilai N\n",
        "for N in N_values:\n",
        "    start_time = time.time()  # Mulai pengukuran waktu\n",
        "    estimated_pi = trapezoid_integration(f, 0, 1, N)\n",
        "    end_time = time.time()  # Selesai pengukuran waktu\n",
        "    execution_time = end_time - start_time\n",
        "\n",
        "    # Menghitung galat RMS\n",
        "    error = rms_error(estimated_pi, pi_reference)\n",
        "\n",
        "    # Menampilkan hasil\n",
        "    print(f\"N = {N}\")\n",
        "    print(f\"Perkiraan Pi: {estimated_pi}\")\n",
        "    print(f\"Galat RMS: {error}\")\n",
        "    print(f\"Waktu Eksekusi: {execution_time} detik\")\n",
        "    print(\"-----------------------------\")\n"
      ]
    }
  ]
}